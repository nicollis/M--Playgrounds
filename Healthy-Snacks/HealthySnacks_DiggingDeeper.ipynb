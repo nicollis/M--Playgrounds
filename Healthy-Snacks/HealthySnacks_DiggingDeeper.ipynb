{
 "cells": [
  {
   "cell_type": "code",
   "execution_count": 1,
   "metadata": {},
   "outputs": [],
   "source": [
    "import turicreate as tc\n",
    "import matplotlib.pyplot as plt"
   ]
  },
  {
   "cell_type": "code",
   "execution_count": 2,
   "metadata": {},
   "outputs": [
    {
     "data": {
      "text/html": [
       "<pre>Read 1539 images in 5.02262 secs\tspeed: 306.414 file/sec</pre>"
      ],
      "text/plain": [
       "Read 1539 images in 5.02262 secs\tspeed: 306.414 file/sec"
      ]
     },
     "metadata": {},
     "output_type": "display_data"
    },
    {
     "data": {
      "text/html": [
       "<pre>Read 3127 images in 10.0228 secs\tspeed: 317.589 file/sec</pre>"
      ],
      "text/plain": [
       "Read 3127 images in 10.0228 secs\tspeed: 317.589 file/sec"
      ]
     },
     "metadata": {},
     "output_type": "display_data"
    },
    {
     "data": {
      "text/plain": [
       "4838"
      ]
     },
     "execution_count": 2,
     "metadata": {},
     "output_type": "execute_result"
    }
   ],
   "source": [
    "train_data = tc.image_analysis.load_images(\"snacks/train\", with_path=True)\n",
    "len(train_data)"
   ]
  },
  {
   "cell_type": "code",
   "execution_count": 3,
   "metadata": {},
   "outputs": [
    {
     "data": {
      "text/plain": [
       "952"
      ]
     },
     "execution_count": 3,
     "metadata": {},
     "output_type": "execute_result"
    }
   ],
   "source": [
    "test_data = tc.image_analysis.load_images(\"snacks/test\", with_path=True)\n",
    "len(test_data)"
   ]
  },
  {
   "cell_type": "code",
   "execution_count": 4,
   "metadata": {},
   "outputs": [
    {
     "name": "stdout",
     "output_type": "stream",
     "text": [
      "+------------+-------+\n",
      "|   value    | count |\n",
      "+------------+-------+\n",
      "| pineapple  |  260  |\n",
      "|   juice    |  250  |\n",
      "|   banana   |  250  |\n",
      "|   apple    |  250  |\n",
      "|  doughnut  |  250  |\n",
      "| watermelon |  250  |\n",
      "|   waffle   |  250  |\n",
      "|   muffin   |  250  |\n",
      "|   salad    |  250  |\n",
      "| ice cream  |  250  |\n",
      "|  hot dog   |  250  |\n",
      "|   grape    |  250  |\n",
      "|   carrot   |  249  |\n",
      "|    cake    |  249  |\n",
      "|   cookie   |  249  |\n",
      "|   orange   |  249  |\n",
      "|   candy    |  249  |\n",
      "| strawberry |  249  |\n",
      "|  popcorn   |  180  |\n",
      "|  pretzel   |  154  |\n",
      "+------------+-------+\n",
      "[20 rows x 2 columns]\n",
      "\n",
      "+------------+-------+\n",
      "|   value    | count |\n",
      "+------------+-------+\n",
      "|  hot dog   |   50  |\n",
      "|   juice    |   50  |\n",
      "|   banana   |   50  |\n",
      "|   orange   |   50  |\n",
      "|   cookie   |   50  |\n",
      "|   carrot   |   50  |\n",
      "|   waffle   |   50  |\n",
      "|    cake    |   50  |\n",
      "|   salad    |   50  |\n",
      "| ice cream  |   50  |\n",
      "|   candy    |   50  |\n",
      "|   grape    |   50  |\n",
      "| watermelon |   50  |\n",
      "|   apple    |   50  |\n",
      "|  doughnut  |   50  |\n",
      "| strawberry |   49  |\n",
      "|   muffin   |   48  |\n",
      "|  popcorn   |   40  |\n",
      "| pineapple  |   40  |\n",
      "|  pretzel   |   25  |\n",
      "+------------+-------+\n",
      "[20 rows x 2 columns]\n",
      "\n"
     ]
    }
   ],
   "source": [
    "import os\n",
    "train_data[\"label\"] = train_data[\"path\"].apply(lambda path: \n",
    "                                               os.path.basename(os.path.split(path)[0]))\n",
    "test_data[\"label\"] = test_data[\"path\"].apply(lambda path: \n",
    "                                             os.path.basename(os.path.split(path)[0]))\n",
    "train_data[\"label\"].value_counts().print_rows(num_rows=20)\n",
    "test_data[\"label\"].value_counts().print_rows(num_rows=20)"
   ]
  },
  {
   "cell_type": "markdown",
   "metadata": {},
   "source": [
    "Run the next cell to train the model.\n",
    "\n",
    "**OR**\n",
    "\n",
    "Run the cell **after** the next cell, to load the model from the `starter/notebook` folder."
   ]
  },
  {
   "cell_type": "code",
   "execution_count": 5,
   "metadata": {},
   "outputs": [
    {
     "data": {
      "text/html": [
       "<pre>Analyzing and extracting image features.</pre>"
      ],
      "text/plain": [
       "Analyzing and extracting image features."
      ]
     },
     "metadata": {},
     "output_type": "display_data"
    },
    {
     "data": {
      "text/html": [
       "<pre>+------------------+--------------+------------------+</pre>"
      ],
      "text/plain": [
       "+------------------+--------------+------------------+"
      ]
     },
     "metadata": {},
     "output_type": "display_data"
    },
    {
     "data": {
      "text/html": [
       "<pre>| Images Processed | Elapsed Time | Percent Complete |</pre>"
      ],
      "text/plain": [
       "| Images Processed | Elapsed Time | Percent Complete |"
      ]
     },
     "metadata": {},
     "output_type": "display_data"
    },
    {
     "data": {
      "text/html": [
       "<pre>+------------------+--------------+------------------+</pre>"
      ],
      "text/plain": [
       "+------------------+--------------+------------------+"
      ]
     },
     "metadata": {},
     "output_type": "display_data"
    },
    {
     "data": {
      "text/html": [
       "<pre>| 64               | 485.438ms    | 1.25%            |</pre>"
      ],
      "text/plain": [
       "| 64               | 485.438ms    | 1.25%            |"
      ]
     },
     "metadata": {},
     "output_type": "display_data"
    },
    {
     "data": {
      "text/html": [
       "<pre>| 128              | 613.899ms    | 2.5%             |</pre>"
      ],
      "text/plain": [
       "| 128              | 613.899ms    | 2.5%             |"
      ]
     },
     "metadata": {},
     "output_type": "display_data"
    },
    {
     "data": {
      "text/html": [
       "<pre>| 192              | 740.493ms    | 3.75%            |</pre>"
      ],
      "text/plain": [
       "| 192              | 740.493ms    | 3.75%            |"
      ]
     },
     "metadata": {},
     "output_type": "display_data"
    },
    {
     "data": {
      "text/html": [
       "<pre>| 256              | 867.496ms    | 5.25%            |</pre>"
      ],
      "text/plain": [
       "| 256              | 867.496ms    | 5.25%            |"
      ]
     },
     "metadata": {},
     "output_type": "display_data"
    },
    {
     "data": {
      "text/html": [
       "<pre>| 320              | 994.251ms    | 6.5%             |</pre>"
      ],
      "text/plain": [
       "| 320              | 994.251ms    | 6.5%             |"
      ]
     },
     "metadata": {},
     "output_type": "display_data"
    },
    {
     "data": {
      "text/html": [
       "<pre>| 640              | 1.62s        | 13%              |</pre>"
      ],
      "text/plain": [
       "| 640              | 1.62s        | 13%              |"
      ]
     },
     "metadata": {},
     "output_type": "display_data"
    },
    {
     "data": {
      "text/html": [
       "<pre>| 1600             | 3.54s        | 32.75%           |</pre>"
      ],
      "text/plain": [
       "| 1600             | 3.54s        | 32.75%           |"
      ]
     },
     "metadata": {},
     "output_type": "display_data"
    },
    {
     "data": {
      "text/html": [
       "<pre>| 3200             | 6.74s        | 65.75%           |</pre>"
      ],
      "text/plain": [
       "| 3200             | 6.74s        | 65.75%           |"
      ]
     },
     "metadata": {},
     "output_type": "display_data"
    },
    {
     "data": {
      "text/html": [
       "<pre>| 4800             | 9.90s        | 98.5%            |</pre>"
      ],
      "text/plain": [
       "| 4800             | 9.90s        | 98.5%            |"
      ]
     },
     "metadata": {},
     "output_type": "display_data"
    },
    {
     "data": {
      "text/html": [
       "<pre>| 4838             | 10.03s       | 100%             |</pre>"
      ],
      "text/plain": [
       "| 4838             | 10.03s       | 100%             |"
      ]
     },
     "metadata": {},
     "output_type": "display_data"
    },
    {
     "data": {
      "text/html": [
       "<pre>+------------------+--------------+------------------+</pre>"
      ],
      "text/plain": [
       "+------------------+--------------+------------------+"
      ]
     },
     "metadata": {},
     "output_type": "display_data"
    },
    {
     "name": "stdout",
     "output_type": "stream",
     "text": [
      "PROGRESS: Creating a validation set from 5 percent of training data. This may take a while.\n",
      "          You can set ``validation_set=None`` to disable validation tracking.\n",
      "\n"
     ]
    },
    {
     "data": {
      "text/html": [
       "<pre>Logistic regression:</pre>"
      ],
      "text/plain": [
       "Logistic regression:"
      ]
     },
     "metadata": {},
     "output_type": "display_data"
    },
    {
     "data": {
      "text/html": [
       "<pre>--------------------------------------------------------</pre>"
      ],
      "text/plain": [
       "--------------------------------------------------------"
      ]
     },
     "metadata": {},
     "output_type": "display_data"
    },
    {
     "data": {
      "text/html": [
       "<pre>Number of examples          : 4596</pre>"
      ],
      "text/plain": [
       "Number of examples          : 4596"
      ]
     },
     "metadata": {},
     "output_type": "display_data"
    },
    {
     "data": {
      "text/html": [
       "<pre>Number of classes           : 20</pre>"
      ],
      "text/plain": [
       "Number of classes           : 20"
      ]
     },
     "metadata": {},
     "output_type": "display_data"
    },
    {
     "data": {
      "text/html": [
       "<pre>Number of feature columns   : 1</pre>"
      ],
      "text/plain": [
       "Number of feature columns   : 1"
      ]
     },
     "metadata": {},
     "output_type": "display_data"
    },
    {
     "data": {
      "text/html": [
       "<pre>Number of unpacked features : 1000</pre>"
      ],
      "text/plain": [
       "Number of unpacked features : 1000"
      ]
     },
     "metadata": {},
     "output_type": "display_data"
    },
    {
     "data": {
      "text/html": [
       "<pre>Number of coefficients      : 19019</pre>"
      ],
      "text/plain": [
       "Number of coefficients      : 19019"
      ]
     },
     "metadata": {},
     "output_type": "display_data"
    },
    {
     "data": {
      "text/html": [
       "<pre>Starting L-BFGS</pre>"
      ],
      "text/plain": [
       "Starting L-BFGS"
      ]
     },
     "metadata": {},
     "output_type": "display_data"
    },
    {
     "data": {
      "text/html": [
       "<pre>--------------------------------------------------------</pre>"
      ],
      "text/plain": [
       "--------------------------------------------------------"
      ]
     },
     "metadata": {},
     "output_type": "display_data"
    },
    {
     "data": {
      "text/html": [
       "<pre>+-----------+----------+-----------+--------------+-------------------+---------------------+</pre>"
      ],
      "text/plain": [
       "+-----------+----------+-----------+--------------+-------------------+---------------------+"
      ]
     },
     "metadata": {},
     "output_type": "display_data"
    },
    {
     "data": {
      "text/html": [
       "<pre>| Iteration | Passes   | Step size | Elapsed Time | Training Accuracy | Validation Accuracy |</pre>"
      ],
      "text/plain": [
       "| Iteration | Passes   | Step size | Elapsed Time | Training Accuracy | Validation Accuracy |"
      ]
     },
     "metadata": {},
     "output_type": "display_data"
    },
    {
     "data": {
      "text/html": [
       "<pre>+-----------+----------+-----------+--------------+-------------------+---------------------+</pre>"
      ],
      "text/plain": [
       "+-----------+----------+-----------+--------------+-------------------+---------------------+"
      ]
     },
     "metadata": {},
     "output_type": "display_data"
    },
    {
     "data": {
      "text/html": [
       "<pre>| 0         | 1        | NaN       | 0.137734     | 0.051567          | 0.053719            |</pre>"
      ],
      "text/plain": [
       "| 0         | 1        | NaN       | 0.137734     | 0.051567          | 0.053719            |"
      ]
     },
     "metadata": {},
     "output_type": "display_data"
    },
    {
     "data": {
      "text/html": [
       "<pre>| 1         | 6        | 0.000015  | 0.825566     | 0.087685          | 0.086777            |</pre>"
      ],
      "text/plain": [
       "| 1         | 6        | 0.000015  | 0.825566     | 0.087685          | 0.086777            |"
      ]
     },
     "metadata": {},
     "output_type": "display_data"
    },
    {
     "data": {
      "text/html": [
       "<pre>| 2         | 9        | 5.000000  | 1.314244     | 0.190383          | 0.181818            |</pre>"
      ],
      "text/plain": [
       "| 2         | 9        | 5.000000  | 1.314244     | 0.190383          | 0.181818            |"
      ]
     },
     "metadata": {},
     "output_type": "display_data"
    },
    {
     "data": {
      "text/html": [
       "<pre>| 3         | 10       | 5.000000  | 1.569771     | 0.268059          | 0.210744            |</pre>"
      ],
      "text/plain": [
       "| 3         | 10       | 5.000000  | 1.569771     | 0.268059          | 0.210744            |"
      ]
     },
     "metadata": {},
     "output_type": "display_data"
    },
    {
     "data": {
      "text/html": [
       "<pre>| 4         | 11       | 5.000000  | 1.803365     | 0.324630          | 0.276860            |</pre>"
      ],
      "text/plain": [
       "| 4         | 11       | 5.000000  | 1.803365     | 0.324630          | 0.276860            |"
      ]
     },
     "metadata": {},
     "output_type": "display_data"
    },
    {
     "data": {
      "text/html": [
       "<pre>| 5         | 13       | 1.000000  | 2.164003     | 0.333986          | 0.260331            |</pre>"
      ],
      "text/plain": [
       "| 5         | 13       | 1.000000  | 2.164003     | 0.333986          | 0.260331            |"
      ]
     },
     "metadata": {},
     "output_type": "display_data"
    },
    {
     "data": {
      "text/html": [
       "<pre>| 10        | 18       | 1.000000  | 3.359132     | 0.229112          | 0.206612            |</pre>"
      ],
      "text/plain": [
       "| 10        | 18       | 1.000000  | 3.359132     | 0.229112          | 0.206612            |"
      ]
     },
     "metadata": {},
     "output_type": "display_data"
    },
    {
     "data": {
      "text/html": [
       "<pre>| 20        | 31       | 1.000000  | 6.269503     | 0.451697          | 0.396694            |</pre>"
      ],
      "text/plain": [
       "| 20        | 31       | 1.000000  | 6.269503     | 0.451697          | 0.396694            |"
      ]
     },
     "metadata": {},
     "output_type": "display_data"
    },
    {
     "data": {
      "text/html": [
       "<pre>| 30        | 41       | 1.000000  | 8.693051     | 0.574630          | 0.512397            |</pre>"
      ],
      "text/plain": [
       "| 30        | 41       | 1.000000  | 8.693051     | 0.574630          | 0.512397            |"
      ]
     },
     "metadata": {},
     "output_type": "display_data"
    },
    {
     "data": {
      "text/html": [
       "<pre>| 40        | 52       | 1.000000  | 11.268683    | 0.602263          | 0.504132            |</pre>"
      ],
      "text/plain": [
       "| 40        | 52       | 1.000000  | 11.268683    | 0.602263          | 0.504132            |"
      ]
     },
     "metadata": {},
     "output_type": "display_data"
    },
    {
     "data": {
      "text/html": [
       "<pre>| 50        | 63       | 1.000000  | 13.841358    | 0.645779          | 0.607438            |</pre>"
      ],
      "text/plain": [
       "| 50        | 63       | 1.000000  | 13.841358    | 0.645779          | 0.607438            |"
      ]
     },
     "metadata": {},
     "output_type": "display_data"
    },
    {
     "data": {
      "text/html": [
       "<pre>| 60        | 74       | 1.000000  | 16.267820    | 0.691253          | 0.607438            |</pre>"
      ],
      "text/plain": [
       "| 60        | 74       | 1.000000  | 16.267820    | 0.691253          | 0.607438            |"
      ]
     },
     "metadata": {},
     "output_type": "display_data"
    },
    {
     "data": {
      "text/html": [
       "<pre>| 70        | 84       | 1.000000  | 18.614432    | 0.725631          | 0.632231            |</pre>"
      ],
      "text/plain": [
       "| 70        | 84       | 1.000000  | 18.614432    | 0.725631          | 0.632231            |"
      ]
     },
     "metadata": {},
     "output_type": "display_data"
    },
    {
     "data": {
      "text/html": [
       "<pre>| 80        | 94       | 1.000000  | 20.975306    | 0.737163          | 0.619835            |</pre>"
      ],
      "text/plain": [
       "| 80        | 94       | 1.000000  | 20.975306    | 0.737163          | 0.619835            |"
      ]
     },
     "metadata": {},
     "output_type": "display_data"
    },
    {
     "data": {
      "text/html": [
       "<pre>| 90        | 105      | 1.000000  | 23.398360    | 0.759574          | 0.648760            |</pre>"
      ],
      "text/plain": [
       "| 90        | 105      | 1.000000  | 23.398360    | 0.759574          | 0.648760            |"
      ]
     },
     "metadata": {},
     "output_type": "display_data"
    },
    {
     "data": {
      "text/html": [
       "<pre>| 100       | 116      | 1.000000  | 25.869634    | 0.785901          | 0.640496            |</pre>"
      ],
      "text/plain": [
       "| 100       | 116      | 1.000000  | 25.869634    | 0.785901          | 0.640496            |"
      ]
     },
     "metadata": {},
     "output_type": "display_data"
    },
    {
     "data": {
      "text/html": [
       "<pre>+-----------+----------+-----------+--------------+-------------------+---------------------+</pre>"
      ],
      "text/plain": [
       "+-----------+----------+-----------+--------------+-------------------+---------------------+"
      ]
     },
     "metadata": {},
     "output_type": "display_data"
    },
    {
     "data": {
      "text/html": [
       "<pre>Completed (Iteration limit reached).</pre>"
      ],
      "text/plain": [
       "Completed (Iteration limit reached)."
      ]
     },
     "metadata": {},
     "output_type": "display_data"
    },
    {
     "data": {
      "text/html": [
       "<pre>This model may not be optimal. To improve it, consider increasing `max_iterations`.</pre>"
      ],
      "text/plain": [
       "This model may not be optimal. To improve it, consider increasing `max_iterations`."
      ]
     },
     "metadata": {},
     "output_type": "display_data"
    }
   ],
   "source": [
    "# Train the image classifier\n",
    "model = tc.image_classifier.create(train_data, target=\"label\", \n",
    "                                   model=\"squeezenet_v1.1\",\n",
    "                                   verbose=True, max_iterations=100)"
   ]
  },
  {
   "cell_type": "code",
   "execution_count": 6,
   "metadata": {},
   "outputs": [],
   "source": [
    "# OR load HealthySnacks.model from starter/notebook folder\n",
    "# model = tc.load_model(\"HealthySnacks.model\")"
   ]
  },
  {
   "cell_type": "markdown",
   "metadata": {},
   "source": [
    "Continue with trained or loaded model."
   ]
  },
  {
   "cell_type": "code",
   "execution_count": 7,
   "metadata": {},
   "outputs": [
    {
     "data": {
      "text/html": [
       "<pre>Analyzing and extracting image features.</pre>"
      ],
      "text/plain": [
       "Analyzing and extracting image features."
      ]
     },
     "metadata": {},
     "output_type": "display_data"
    },
    {
     "data": {
      "text/html": [
       "<pre>+------------------+--------------+------------------+</pre>"
      ],
      "text/plain": [
       "+------------------+--------------+------------------+"
      ]
     },
     "metadata": {},
     "output_type": "display_data"
    },
    {
     "data": {
      "text/html": [
       "<pre>| Images Processed | Elapsed Time | Percent Complete |</pre>"
      ],
      "text/plain": [
       "| Images Processed | Elapsed Time | Percent Complete |"
      ]
     },
     "metadata": {},
     "output_type": "display_data"
    },
    {
     "data": {
      "text/html": [
       "<pre>+------------------+--------------+------------------+</pre>"
      ],
      "text/plain": [
       "+------------------+--------------+------------------+"
      ]
     },
     "metadata": {},
     "output_type": "display_data"
    },
    {
     "data": {
      "text/html": [
       "<pre>| 64               | 489.912ms    | 6.5%             |</pre>"
      ],
      "text/plain": [
       "| 64               | 489.912ms    | 6.5%             |"
      ]
     },
     "metadata": {},
     "output_type": "display_data"
    },
    {
     "data": {
      "text/html": [
       "<pre>| 128              | 617.33ms     | 13.25%           |</pre>"
      ],
      "text/plain": [
       "| 128              | 617.33ms     | 13.25%           |"
      ]
     },
     "metadata": {},
     "output_type": "display_data"
    },
    {
     "data": {
      "text/html": [
       "<pre>| 192              | 744.593ms    | 20%              |</pre>"
      ],
      "text/plain": [
       "| 192              | 744.593ms    | 20%              |"
      ]
     },
     "metadata": {},
     "output_type": "display_data"
    },
    {
     "data": {
      "text/html": [
       "<pre>| 256              | 870.95ms     | 26.5%            |</pre>"
      ],
      "text/plain": [
       "| 256              | 870.95ms     | 26.5%            |"
      ]
     },
     "metadata": {},
     "output_type": "display_data"
    },
    {
     "data": {
      "text/html": [
       "<pre>| 320              | 997.23ms     | 33.25%           |</pre>"
      ],
      "text/plain": [
       "| 320              | 997.23ms     | 33.25%           |"
      ]
     },
     "metadata": {},
     "output_type": "display_data"
    },
    {
     "data": {
      "text/html": [
       "<pre>| 640              | 1.62s        | 66.5%            |</pre>"
      ],
      "text/plain": [
       "| 640              | 1.62s        | 66.5%            |"
      ]
     },
     "metadata": {},
     "output_type": "display_data"
    },
    {
     "data": {
      "text/html": [
       "<pre>| 952              | 2.26s        | 100%             |</pre>"
      ],
      "text/plain": [
       "| 952              | 2.26s        | 100%             |"
      ]
     },
     "metadata": {},
     "output_type": "display_data"
    },
    {
     "data": {
      "text/html": [
       "<pre>+------------------+--------------+------------------+</pre>"
      ],
      "text/plain": [
       "+------------------+--------------+------------------+"
      ]
     },
     "metadata": {},
     "output_type": "display_data"
    },
    {
     "name": "stdout",
     "output_type": "stream",
     "text": [
      "Accuracy:  0.6470588235294118\n",
      "Precision:  0.6469951400317295\n",
      "Recall:  0.644797619047619\n"
     ]
    }
   ],
   "source": [
    "metrics = model.evaluate(test_data)\n",
    "print(\"Accuracy: \", metrics[\"accuracy\"])\n",
    "print(\"Precision: \", metrics[\"precision\"])\n",
    "print(\"Recall: \", metrics[\"recall\"])"
   ]
  },
  {
   "cell_type": "code",
   "execution_count": 8,
   "metadata": {},
   "outputs": [
    {
     "data": {
      "text/plain": [
       "dtype: str\n",
       "Rows: 952\n",
       "['popcorn', 'grape', 'orange', 'orange', 'orange', 'apple', 'orange', 'apple', 'watermelon', 'apple', 'apple', 'apple', 'strawberry', 'apple', 'apple', 'carrot', 'candy', 'salad', 'apple', 'apple', 'apple', 'apple', 'apple', 'apple', 'apple', 'pineapple', 'orange', 'apple', 'apple', 'apple', 'doughnut', 'grape', 'apple', 'apple', 'orange', 'grape', 'apple', 'apple', 'apple', 'grape', 'apple', 'apple', 'grape', 'apple', 'orange', 'apple', 'apple', 'apple', 'apple', 'apple', 'banana', 'banana', 'pineapple', 'carrot', 'banana', 'banana', 'banana', 'banana', 'banana', 'banana', 'banana', 'banana', 'banana', 'banana', 'banana', 'banana', 'hot dog', 'banana', 'banana', 'banana', 'banana', 'pineapple', 'banana', 'banana', 'banana', 'banana', 'banana', 'banana', 'juice', 'watermelon', 'hot dog', 'banana', 'banana', 'banana', 'banana', 'banana', 'banana', 'banana', 'banana', 'banana', 'banana', 'apple', 'watermelon', 'banana', 'grape', 'banana', 'orange', 'banana', 'banana', 'banana', ... ]"
      ]
     },
     "execution_count": 8,
     "metadata": {},
     "output_type": "execute_result"
    }
   ],
   "source": [
    "model.predict(test_data)"
   ]
  },
  {
   "cell_type": "code",
   "execution_count": 9,
   "metadata": {},
   "outputs": [],
   "source": [
    "output = model.classify(test_data)"
   ]
  },
  {
   "cell_type": "code",
   "execution_count": 10,
   "metadata": {},
   "outputs": [
    {
     "data": {
      "text/html": [
       "<div style=\"max-height:1000px;max-width:1500px;overflow:auto;\"><table frame=\"box\" rules=\"cols\">\n",
       "    <tr>\n",
       "        <th style=\"padding-left: 1em; padding-right: 1em; text-align: center\">class</th>\n",
       "        <th style=\"padding-left: 1em; padding-right: 1em; text-align: center\">probability</th>\n",
       "    </tr>\n",
       "    <tr>\n",
       "        <td style=\"padding-left: 1em; padding-right: 1em; text-align: center; vertical-align: top\">popcorn</td>\n",
       "        <td style=\"padding-left: 1em; padding-right: 1em; text-align: center; vertical-align: top\">0.22698893504653178</td>\n",
       "    </tr>\n",
       "    <tr>\n",
       "        <td style=\"padding-left: 1em; padding-right: 1em; text-align: center; vertical-align: top\">grape</td>\n",
       "        <td style=\"padding-left: 1em; padding-right: 1em; text-align: center; vertical-align: top\">0.6395619778024023</td>\n",
       "    </tr>\n",
       "    <tr>\n",
       "        <td style=\"padding-left: 1em; padding-right: 1em; text-align: center; vertical-align: top\">orange</td>\n",
       "        <td style=\"padding-left: 1em; padding-right: 1em; text-align: center; vertical-align: top\">0.26761609511752404</td>\n",
       "    </tr>\n",
       "    <tr>\n",
       "        <td style=\"padding-left: 1em; padding-right: 1em; text-align: center; vertical-align: top\">orange</td>\n",
       "        <td style=\"padding-left: 1em; padding-right: 1em; text-align: center; vertical-align: top\">0.7758432673255595</td>\n",
       "    </tr>\n",
       "    <tr>\n",
       "        <td style=\"padding-left: 1em; padding-right: 1em; text-align: center; vertical-align: top\">orange</td>\n",
       "        <td style=\"padding-left: 1em; padding-right: 1em; text-align: center; vertical-align: top\">0.3420459477488392</td>\n",
       "    </tr>\n",
       "    <tr>\n",
       "        <td style=\"padding-left: 1em; padding-right: 1em; text-align: center; vertical-align: top\">apple</td>\n",
       "        <td style=\"padding-left: 1em; padding-right: 1em; text-align: center; vertical-align: top\">0.9846612528759394</td>\n",
       "    </tr>\n",
       "    <tr>\n",
       "        <td style=\"padding-left: 1em; padding-right: 1em; text-align: center; vertical-align: top\">orange</td>\n",
       "        <td style=\"padding-left: 1em; padding-right: 1em; text-align: center; vertical-align: top\">0.3287940911250862</td>\n",
       "    </tr>\n",
       "    <tr>\n",
       "        <td style=\"padding-left: 1em; padding-right: 1em; text-align: center; vertical-align: top\">apple</td>\n",
       "        <td style=\"padding-left: 1em; padding-right: 1em; text-align: center; vertical-align: top\">0.47114294222867004</td>\n",
       "    </tr>\n",
       "    <tr>\n",
       "        <td style=\"padding-left: 1em; padding-right: 1em; text-align: center; vertical-align: top\">watermelon</td>\n",
       "        <td style=\"padding-left: 1em; padding-right: 1em; text-align: center; vertical-align: top\">0.49175382554691544</td>\n",
       "    </tr>\n",
       "    <tr>\n",
       "        <td style=\"padding-left: 1em; padding-right: 1em; text-align: center; vertical-align: top\">apple</td>\n",
       "        <td style=\"padding-left: 1em; padding-right: 1em; text-align: center; vertical-align: top\">0.8841196748076546</td>\n",
       "    </tr>\n",
       "</table>\n",
       "[952 rows x 2 columns]<br/>Note: Only the head of the SFrame is printed.<br/>You can use print_rows(num_rows=m, num_columns=n) to print more rows and columns.\n",
       "</div>"
      ],
      "text/plain": [
       "Columns:\n",
       "\tclass\tstr\n",
       "\tprobability\tfloat\n",
       "\n",
       "Rows: 952\n",
       "\n",
       "Data:\n",
       "+------------+---------------------+\n",
       "|   class    |     probability     |\n",
       "+------------+---------------------+\n",
       "|  popcorn   | 0.22698893504653178 |\n",
       "|   grape    |  0.6395619778024023 |\n",
       "|   orange   | 0.26761609511752404 |\n",
       "|   orange   |  0.7758432673255595 |\n",
       "|   orange   |  0.3420459477488392 |\n",
       "|   apple    |  0.9846612528759394 |\n",
       "|   orange   |  0.3287940911250862 |\n",
       "|   apple    | 0.47114294222867004 |\n",
       "| watermelon | 0.49175382554691544 |\n",
       "|   apple    |  0.8841196748076546 |\n",
       "+------------+---------------------+\n",
       "[952 rows x 2 columns]\n",
       "Note: Only the head of the SFrame is printed.\n",
       "You can use print_rows(num_rows=m, num_columns=n) to print more rows and columns."
      ]
     },
     "execution_count": 10,
     "metadata": {},
     "output_type": "execute_result"
    }
   ],
   "source": [
    "output"
   ]
  },
  {
   "cell_type": "code",
   "execution_count": 11,
   "metadata": {},
   "outputs": [],
   "source": [
    "imgs_with_pred = test_data.add_columns(output)"
   ]
  },
  {
   "cell_type": "code",
   "execution_count": 12,
   "metadata": {},
   "outputs": [
    {
     "data": {
      "text/html": [
       "<pre>Materializing SFrame</pre>"
      ],
      "text/plain": [
       "Materializing SFrame"
      ]
     },
     "metadata": {},
     "output_type": "display_data"
    }
   ],
   "source": [
    "imgs_with_pred.explore()"
   ]
  },
  {
   "cell_type": "code",
   "execution_count": 13,
   "metadata": {},
   "outputs": [],
   "source": [
    "imgs_filtered = imgs_with_pred[(imgs_with_pred[\"probability\"] > 0.9) & (imgs_with_pred[\"label\"] != imgs_with_pred[\"class\"])]"
   ]
  },
  {
   "cell_type": "code",
   "execution_count": 14,
   "metadata": {},
   "outputs": [
    {
     "data": {
      "text/html": [
       "<pre>Materializing SFrame</pre>"
      ],
      "text/plain": [
       "Materializing SFrame"
      ]
     },
     "metadata": {},
     "output_type": "display_data"
    }
   ],
   "source": [
    "imgs_filtered.explore()"
   ]
  },
  {
   "cell_type": "code",
   "execution_count": 15,
   "metadata": {},
   "outputs": [
    {
     "name": "stdout",
     "output_type": "stream",
     "text": [
      "Probabilities for 2nd image array('d', [0.2562423024370598, 0.008941414444259048, 1.0345902077256272e-05, 0.01393458938943105, 0.00424127661386408, 0.002645737612109172, 3.691855584674081e-05, 0.6395619778024023, 1.1141793237233896e-05, 6.287403500402941e-05, 4.692354069911665e-05, 2.4401796102835497e-06, 0.07288808266826105, 0.0005345314826011119, 0.00010364728423814174, 6.234492238492068e-08, 0.00028595873611663087, 4.3540272498218285e-05, 3.7826943768374993e-06, 0.0004024522113856303])\n"
     ]
    }
   ],
   "source": [
    "predictions = model.predict(test_data, output_type=\"probability_vector\")\n",
    "print(\"Probabilities for 2nd image\", predictions[1])"
   ]
  },
  {
   "cell_type": "code",
   "execution_count": 16,
   "metadata": {},
   "outputs": [],
   "source": [
    "labels = test_data[\"label\"].unique().sort()\n",
    "preds = tc.SArray(predictions[1])"
   ]
  },
  {
   "cell_type": "code",
   "execution_count": 17,
   "metadata": {},
   "outputs": [
    {
     "data": {
      "text/html": [
       "<div style=\"max-height:1000px;max-width:1500px;overflow:auto;\"><table frame=\"box\" rules=\"cols\">\n",
       "    <tr>\n",
       "        <th style=\"padding-left: 1em; padding-right: 1em; text-align: center\">labels</th>\n",
       "        <th style=\"padding-left: 1em; padding-right: 1em; text-align: center\">preds</th>\n",
       "    </tr>\n",
       "    <tr>\n",
       "        <td style=\"padding-left: 1em; padding-right: 1em; text-align: center; vertical-align: top\">grape</td>\n",
       "        <td style=\"padding-left: 1em; padding-right: 1em; text-align: center; vertical-align: top\">0.6395619778024023</td>\n",
       "    </tr>\n",
       "    <tr>\n",
       "        <td style=\"padding-left: 1em; padding-right: 1em; text-align: center; vertical-align: top\">apple</td>\n",
       "        <td style=\"padding-left: 1em; padding-right: 1em; text-align: center; vertical-align: top\">0.2562423024370598</td>\n",
       "    </tr>\n",
       "    <tr>\n",
       "        <td style=\"padding-left: 1em; padding-right: 1em; text-align: center; vertical-align: top\">orange</td>\n",
       "        <td style=\"padding-left: 1em; padding-right: 1em; text-align: center; vertical-align: top\">0.07288808266826105</td>\n",
       "    </tr>\n",
       "    <tr>\n",
       "        <td style=\"padding-left: 1em; padding-right: 1em; text-align: center; vertical-align: top\">candy</td>\n",
       "        <td style=\"padding-left: 1em; padding-right: 1em; text-align: center; vertical-align: top\">0.01393458938943105</td>\n",
       "    </tr>\n",
       "    <tr>\n",
       "        <td style=\"padding-left: 1em; padding-right: 1em; text-align: center; vertical-align: top\">banana</td>\n",
       "        <td style=\"padding-left: 1em; padding-right: 1em; text-align: center; vertical-align: top\">0.008941414444259048</td>\n",
       "    </tr>\n",
       "    <tr>\n",
       "        <td style=\"padding-left: 1em; padding-right: 1em; text-align: center; vertical-align: top\">carrot</td>\n",
       "        <td style=\"padding-left: 1em; padding-right: 1em; text-align: center; vertical-align: top\">0.00424127661386408</td>\n",
       "    </tr>\n",
       "    <tr>\n",
       "        <td style=\"padding-left: 1em; padding-right: 1em; text-align: center; vertical-align: top\">cookie</td>\n",
       "        <td style=\"padding-left: 1em; padding-right: 1em; text-align: center; vertical-align: top\">0.002645737612109172</td>\n",
       "    </tr>\n",
       "    <tr>\n",
       "        <td style=\"padding-left: 1em; padding-right: 1em; text-align: center; vertical-align: top\">pineapple</td>\n",
       "        <td style=\"padding-left: 1em; padding-right: 1em; text-align: center; vertical-align: top\">0.0005345314826011119</td>\n",
       "    </tr>\n",
       "    <tr>\n",
       "        <td style=\"padding-left: 1em; padding-right: 1em; text-align: center; vertical-align: top\">watermelon</td>\n",
       "        <td style=\"padding-left: 1em; padding-right: 1em; text-align: center; vertical-align: top\">0.0004024522113856303</td>\n",
       "    </tr>\n",
       "    <tr>\n",
       "        <td style=\"padding-left: 1em; padding-right: 1em; text-align: center; vertical-align: top\">salad</td>\n",
       "        <td style=\"padding-left: 1em; padding-right: 1em; text-align: center; vertical-align: top\">0.00028595873611663087</td>\n",
       "    </tr>\n",
       "</table>\n",
       "[20 rows x 2 columns]<br/>Note: Only the head of the SFrame is printed.<br/>You can use print_rows(num_rows=m, num_columns=n) to print more rows and columns.\n",
       "</div>"
      ],
      "text/plain": [
       "Columns:\n",
       "\tlabels\tstr\n",
       "\tpreds\tfloat\n",
       "\n",
       "Rows: 20\n",
       "\n",
       "Data:\n",
       "+------------+------------------------+\n",
       "|   labels   |         preds          |\n",
       "+------------+------------------------+\n",
       "|   grape    |   0.6395619778024023   |\n",
       "|   apple    |   0.2562423024370598   |\n",
       "|   orange   |  0.07288808266826105   |\n",
       "|   candy    |  0.01393458938943105   |\n",
       "|   banana   |  0.008941414444259048  |\n",
       "|   carrot   |  0.00424127661386408   |\n",
       "|   cookie   |  0.002645737612109172  |\n",
       "| pineapple  | 0.0005345314826011119  |\n",
       "| watermelon | 0.0004024522113856303  |\n",
       "|   salad    | 0.00028595873611663087 |\n",
       "+------------+------------------------+\n",
       "[20 rows x 2 columns]\n",
       "Note: Only the head of the SFrame is printed.\n",
       "You can use print_rows(num_rows=m, num_columns=n) to print more rows and columns."
      ]
     },
     "execution_count": 17,
     "metadata": {},
     "output_type": "execute_result"
    }
   ],
   "source": [
    "tc.SFrame({'preds': preds, 'labels': labels}).sort([('preds', False)])"
   ]
  },
  {
   "cell_type": "code",
   "execution_count": 18,
   "metadata": {},
   "outputs": [
    {
     "data": {
      "text/html": [
       "<pre>Analyzing and extracting image features.</pre>"
      ],
      "text/plain": [
       "Analyzing and extracting image features."
      ]
     },
     "metadata": {},
     "output_type": "display_data"
    },
    {
     "data": {
      "text/html": [
       "<pre>+------------------+--------------+------------------+</pre>"
      ],
      "text/plain": [
       "+------------------+--------------+------------------+"
      ]
     },
     "metadata": {},
     "output_type": "display_data"
    },
    {
     "data": {
      "text/html": [
       "<pre>| Images Processed | Elapsed Time | Percent Complete |</pre>"
      ],
      "text/plain": [
       "| Images Processed | Elapsed Time | Percent Complete |"
      ]
     },
     "metadata": {},
     "output_type": "display_data"
    },
    {
     "data": {
      "text/html": [
       "<pre>+------------------+--------------+------------------+</pre>"
      ],
      "text/plain": [
       "+------------------+--------------+------------------+"
      ]
     },
     "metadata": {},
     "output_type": "display_data"
    },
    {
     "data": {
      "text/html": [
       "<pre>| 64               | 612.258ms    | 1.25%            |</pre>"
      ],
      "text/plain": [
       "| 64               | 612.258ms    | 1.25%            |"
      ]
     },
     "metadata": {},
     "output_type": "display_data"
    },
    {
     "data": {
      "text/html": [
       "<pre>| 128              | 760.65ms     | 2.5%             |</pre>"
      ],
      "text/plain": [
       "| 128              | 760.65ms     | 2.5%             |"
      ]
     },
     "metadata": {},
     "output_type": "display_data"
    },
    {
     "data": {
      "text/html": [
       "<pre>| 192              | 909.677ms    | 3.75%            |</pre>"
      ],
      "text/plain": [
       "| 192              | 909.677ms    | 3.75%            |"
      ]
     },
     "metadata": {},
     "output_type": "display_data"
    },
    {
     "data": {
      "text/html": [
       "<pre>| 256              | 1.05s        | 5.25%            |</pre>"
      ],
      "text/plain": [
       "| 256              | 1.05s        | 5.25%            |"
      ]
     },
     "metadata": {},
     "output_type": "display_data"
    },
    {
     "data": {
      "text/html": [
       "<pre>| 320              | 1.18s        | 6.5%             |</pre>"
      ],
      "text/plain": [
       "| 320              | 1.18s        | 6.5%             |"
      ]
     },
     "metadata": {},
     "output_type": "display_data"
    },
    {
     "data": {
      "text/html": [
       "<pre>| 640              | 1.85s        | 13%              |</pre>"
      ],
      "text/plain": [
       "| 640              | 1.85s        | 13%              |"
      ]
     },
     "metadata": {},
     "output_type": "display_data"
    },
    {
     "data": {
      "text/html": [
       "<pre>| 1600             | 3.78s        | 32.75%           |</pre>"
      ],
      "text/plain": [
       "| 1600             | 3.78s        | 32.75%           |"
      ]
     },
     "metadata": {},
     "output_type": "display_data"
    },
    {
     "data": {
      "text/html": [
       "<pre>| 3200             | 7.08s        | 65.75%           |</pre>"
      ],
      "text/plain": [
       "| 3200             | 7.08s        | 65.75%           |"
      ]
     },
     "metadata": {},
     "output_type": "display_data"
    },
    {
     "data": {
      "text/html": [
       "<pre>| 4800             | 10.23s       | 98.5%            |</pre>"
      ],
      "text/plain": [
       "| 4800             | 10.23s       | 98.5%            |"
      ]
     },
     "metadata": {},
     "output_type": "display_data"
    },
    {
     "data": {
      "text/html": [
       "<pre>| 4838             | 10.36s       | 100%             |</pre>"
      ],
      "text/plain": [
       "| 4838             | 10.36s       | 100%             |"
      ]
     },
     "metadata": {},
     "output_type": "display_data"
    },
    {
     "data": {
      "text/html": [
       "<pre>+------------------+--------------+------------------+</pre>"
      ],
      "text/plain": [
       "+------------------+--------------+------------------+"
      ]
     },
     "metadata": {},
     "output_type": "display_data"
    },
    {
     "name": "stdout",
     "output_type": "stream",
     "text": [
      "PROGRESS: Creating a validation set from 5 percent of training data. This may take a while.\n",
      "          You can set ``validation_set=None`` to disable validation tracking.\n",
      "\n"
     ]
    },
    {
     "data": {
      "text/html": [
       "<pre>Logistic regression:</pre>"
      ],
      "text/plain": [
       "Logistic regression:"
      ]
     },
     "metadata": {},
     "output_type": "display_data"
    },
    {
     "data": {
      "text/html": [
       "<pre>--------------------------------------------------------</pre>"
      ],
      "text/plain": [
       "--------------------------------------------------------"
      ]
     },
     "metadata": {},
     "output_type": "display_data"
    },
    {
     "data": {
      "text/html": [
       "<pre>Number of examples          : 4586</pre>"
      ],
      "text/plain": [
       "Number of examples          : 4586"
      ]
     },
     "metadata": {},
     "output_type": "display_data"
    },
    {
     "data": {
      "text/html": [
       "<pre>Number of classes           : 20</pre>"
      ],
      "text/plain": [
       "Number of classes           : 20"
      ]
     },
     "metadata": {},
     "output_type": "display_data"
    },
    {
     "data": {
      "text/html": [
       "<pre>Number of feature columns   : 1</pre>"
      ],
      "text/plain": [
       "Number of feature columns   : 1"
      ]
     },
     "metadata": {},
     "output_type": "display_data"
    },
    {
     "data": {
      "text/html": [
       "<pre>Number of unpacked features : 1000</pre>"
      ],
      "text/plain": [
       "Number of unpacked features : 1000"
      ]
     },
     "metadata": {},
     "output_type": "display_data"
    },
    {
     "data": {
      "text/html": [
       "<pre>Number of coefficients      : 19019</pre>"
      ],
      "text/plain": [
       "Number of coefficients      : 19019"
      ]
     },
     "metadata": {},
     "output_type": "display_data"
    },
    {
     "data": {
      "text/html": [
       "<pre>Starting L-BFGS</pre>"
      ],
      "text/plain": [
       "Starting L-BFGS"
      ]
     },
     "metadata": {},
     "output_type": "display_data"
    },
    {
     "data": {
      "text/html": [
       "<pre>--------------------------------------------------------</pre>"
      ],
      "text/plain": [
       "--------------------------------------------------------"
      ]
     },
     "metadata": {},
     "output_type": "display_data"
    },
    {
     "data": {
      "text/html": [
       "<pre>+-----------+----------+-----------+--------------+-------------------+---------------------+</pre>"
      ],
      "text/plain": [
       "+-----------+----------+-----------+--------------+-------------------+---------------------+"
      ]
     },
     "metadata": {},
     "output_type": "display_data"
    },
    {
     "data": {
      "text/html": [
       "<pre>| Iteration | Passes   | Step size | Elapsed Time | Training Accuracy | Validation Accuracy |</pre>"
      ],
      "text/plain": [
       "| Iteration | Passes   | Step size | Elapsed Time | Training Accuracy | Validation Accuracy |"
      ]
     },
     "metadata": {},
     "output_type": "display_data"
    },
    {
     "data": {
      "text/html": [
       "<pre>+-----------+----------+-----------+--------------+-------------------+---------------------+</pre>"
      ],
      "text/plain": [
       "+-----------+----------+-----------+--------------+-------------------+---------------------+"
      ]
     },
     "metadata": {},
     "output_type": "display_data"
    },
    {
     "data": {
      "text/html": [
       "<pre>| 0         | 1        | NaN       | 0.113581     | 0.052333          | 0.039683            |</pre>"
      ],
      "text/plain": [
       "| 0         | 1        | NaN       | 0.113581     | 0.052333          | 0.039683            |"
      ]
     },
     "metadata": {},
     "output_type": "display_data"
    },
    {
     "data": {
      "text/html": [
       "<pre>| 1         | 6        | 0.000014  | 0.788120     | 0.098125          | 0.103175            |</pre>"
      ],
      "text/plain": [
       "| 1         | 6        | 0.000014  | 0.788120     | 0.098125          | 0.103175            |"
      ]
     },
     "metadata": {},
     "output_type": "display_data"
    },
    {
     "data": {
      "text/html": [
       "<pre>| 2         | 9        | 5.000000  | 1.276621     | 0.220890          | 0.261905            |</pre>"
      ],
      "text/plain": [
       "| 2         | 9        | 5.000000  | 1.276621     | 0.220890          | 0.261905            |"
      ]
     },
     "metadata": {},
     "output_type": "display_data"
    },
    {
     "data": {
      "text/html": [
       "<pre>| 3         | 10       | 5.000000  | 1.539355     | 0.227867          | 0.250000            |</pre>"
      ],
      "text/plain": [
       "| 3         | 10       | 5.000000  | 1.539355     | 0.227867          | 0.250000            |"
      ]
     },
     "metadata": {},
     "output_type": "display_data"
    },
    {
     "data": {
      "text/html": [
       "<pre>| 4         | 11       | 5.000000  | 1.763243     | 0.347143          | 0.309524            |</pre>"
      ],
      "text/plain": [
       "| 4         | 11       | 5.000000  | 1.763243     | 0.347143          | 0.309524            |"
      ]
     },
     "metadata": {},
     "output_type": "display_data"
    },
    {
     "data": {
      "text/html": [
       "<pre>| 5         | 13       | 1.000000  | 2.126025     | 0.355648          | 0.380952            |</pre>"
      ],
      "text/plain": [
       "| 5         | 13       | 1.000000  | 2.126025     | 0.355648          | 0.380952            |"
      ]
     },
     "metadata": {},
     "output_type": "display_data"
    },
    {
     "data": {
      "text/html": [
       "<pre>| 10        | 19       | 1.000000  | 3.404055     | 0.420846          | 0.436508            |</pre>"
      ],
      "text/plain": [
       "| 10        | 19       | 1.000000  | 3.404055     | 0.420846          | 0.436508            |"
      ]
     },
     "metadata": {},
     "output_type": "display_data"
    },
    {
     "data": {
      "text/html": [
       "<pre>| 20        | 30       | 1.000000  | 5.922994     | 0.470126          | 0.484127            |</pre>"
      ],
      "text/plain": [
       "| 20        | 30       | 1.000000  | 5.922994     | 0.470126          | 0.484127            |"
      ]
     },
     "metadata": {},
     "output_type": "display_data"
    },
    {
     "data": {
      "text/html": [
       "<pre>| 30        | 40       | 1.000000  | 8.313481     | 0.585478          | 0.579365            |</pre>"
      ],
      "text/plain": [
       "| 30        | 40       | 1.000000  | 8.313481     | 0.585478          | 0.579365            |"
      ]
     },
     "metadata": {},
     "output_type": "display_data"
    },
    {
     "data": {
      "text/html": [
       "<pre>| 40        | 50       | 1.000000  | 10.930712    | 0.624509          | 0.583333            |</pre>"
      ],
      "text/plain": [
       "| 40        | 50       | 1.000000  | 10.930712    | 0.624509          | 0.583333            |"
      ]
     },
     "metadata": {},
     "output_type": "display_data"
    },
    {
     "data": {
      "text/html": [
       "<pre>| 50        | 61       | 1.000000  | 13.406267    | 0.676843          | 0.650794            |</pre>"
      ],
      "text/plain": [
       "| 50        | 61       | 1.000000  | 13.406267    | 0.676843          | 0.650794            |"
      ]
     },
     "metadata": {},
     "output_type": "display_data"
    },
    {
     "data": {
      "text/html": [
       "<pre>| 60        | 73       | 1.000000  | 15.993093    | 0.711295          | 0.686508            |</pre>"
      ],
      "text/plain": [
       "| 60        | 73       | 1.000000  | 15.993093    | 0.711295          | 0.686508            |"
      ]
     },
     "metadata": {},
     "output_type": "display_data"
    },
    {
     "data": {
      "text/html": [
       "<pre>| 70        | 84       | 1.000000  | 18.508687    | 0.738770          | 0.702381            |</pre>"
      ],
      "text/plain": [
       "| 70        | 84       | 1.000000  | 18.508687    | 0.738770          | 0.702381            |"
      ]
     },
     "metadata": {},
     "output_type": "display_data"
    },
    {
     "data": {
      "text/html": [
       "<pre>| 80        | 94       | 1.000000  | 20.973337    | 0.752290          | 0.690476            |</pre>"
      ],
      "text/plain": [
       "| 80        | 94       | 1.000000  | 20.973337    | 0.752290          | 0.690476            |"
      ]
     },
     "metadata": {},
     "output_type": "display_data"
    },
    {
     "data": {
      "text/html": [
       "<pre>| 90        | 104      | 1.000000  | 23.534034    | 0.772351          | 0.678571            |</pre>"
      ],
      "text/plain": [
       "| 90        | 104      | 1.000000  | 23.534034    | 0.772351          | 0.678571            |"
      ]
     },
     "metadata": {},
     "output_type": "display_data"
    },
    {
     "data": {
      "text/html": [
       "<pre>| 100       | 114      | 1.000000  | 25.903387    | 0.788051          | 0.674603            |</pre>"
      ],
      "text/plain": [
       "| 100       | 114      | 1.000000  | 25.903387    | 0.788051          | 0.674603            |"
      ]
     },
     "metadata": {},
     "output_type": "display_data"
    },
    {
     "data": {
      "text/html": [
       "<pre>+-----------+----------+-----------+--------------+-------------------+---------------------+</pre>"
      ],
      "text/plain": [
       "+-----------+----------+-----------+--------------+-------------------+---------------------+"
      ]
     },
     "metadata": {},
     "output_type": "display_data"
    },
    {
     "data": {
      "text/html": [
       "<pre>Completed (Iteration limit reached).</pre>"
      ],
      "text/plain": [
       "Completed (Iteration limit reached)."
      ]
     },
     "metadata": {},
     "output_type": "display_data"
    },
    {
     "data": {
      "text/html": [
       "<pre>This model may not be optimal. To improve it, consider increasing `max_iterations`.</pre>"
      ],
      "text/plain": [
       "This model may not be optimal. To improve it, consider increasing `max_iterations`."
      ]
     },
     "metadata": {},
     "output_type": "display_data"
    }
   ],
   "source": [
    "model200 = tc.image_classifier.create(train_data, target=\"label\", model=\"squeezenet_v1.1\", verbose=True, max_iterations=100)"
   ]
  },
  {
   "cell_type": "code",
   "execution_count": 19,
   "metadata": {},
   "outputs": [
    {
     "data": {
      "text/html": [
       "<pre>Analyzing and extracting image features.</pre>"
      ],
      "text/plain": [
       "Analyzing and extracting image features."
      ]
     },
     "metadata": {},
     "output_type": "display_data"
    },
    {
     "data": {
      "text/html": [
       "<pre>+------------------+--------------+------------------+</pre>"
      ],
      "text/plain": [
       "+------------------+--------------+------------------+"
      ]
     },
     "metadata": {},
     "output_type": "display_data"
    },
    {
     "data": {
      "text/html": [
       "<pre>| Images Processed | Elapsed Time | Percent Complete |</pre>"
      ],
      "text/plain": [
       "| Images Processed | Elapsed Time | Percent Complete |"
      ]
     },
     "metadata": {},
     "output_type": "display_data"
    },
    {
     "data": {
      "text/html": [
       "<pre>+------------------+--------------+------------------+</pre>"
      ],
      "text/plain": [
       "+------------------+--------------+------------------+"
      ]
     },
     "metadata": {},
     "output_type": "display_data"
    },
    {
     "data": {
      "text/html": [
       "<pre>| 64               | 479.266ms    | 6.5%             |</pre>"
      ],
      "text/plain": [
       "| 64               | 479.266ms    | 6.5%             |"
      ]
     },
     "metadata": {},
     "output_type": "display_data"
    },
    {
     "data": {
      "text/html": [
       "<pre>| 128              | 606.562ms    | 13.25%           |</pre>"
      ],
      "text/plain": [
       "| 128              | 606.562ms    | 13.25%           |"
      ]
     },
     "metadata": {},
     "output_type": "display_data"
    },
    {
     "data": {
      "text/html": [
       "<pre>| 192              | 733.434ms    | 20%              |</pre>"
      ],
      "text/plain": [
       "| 192              | 733.434ms    | 20%              |"
      ]
     },
     "metadata": {},
     "output_type": "display_data"
    },
    {
     "data": {
      "text/html": [
       "<pre>| 256              | 860.259ms    | 26.5%            |</pre>"
      ],
      "text/plain": [
       "| 256              | 860.259ms    | 26.5%            |"
      ]
     },
     "metadata": {},
     "output_type": "display_data"
    },
    {
     "data": {
      "text/html": [
       "<pre>| 320              | 990.021ms    | 33.25%           |</pre>"
      ],
      "text/plain": [
       "| 320              | 990.021ms    | 33.25%           |"
      ]
     },
     "metadata": {},
     "output_type": "display_data"
    },
    {
     "data": {
      "text/html": [
       "<pre>| 640              | 1.62s        | 66.5%            |</pre>"
      ],
      "text/plain": [
       "| 640              | 1.62s        | 66.5%            |"
      ]
     },
     "metadata": {},
     "output_type": "display_data"
    },
    {
     "data": {
      "text/html": [
       "<pre>| 952              | 2.25s        | 100%             |</pre>"
      ],
      "text/plain": [
       "| 952              | 2.25s        | 100%             |"
      ]
     },
     "metadata": {},
     "output_type": "display_data"
    },
    {
     "data": {
      "text/html": [
       "<pre>+------------------+--------------+------------------+</pre>"
      ],
      "text/plain": [
       "+------------------+--------------+------------------+"
      ]
     },
     "metadata": {},
     "output_type": "display_data"
    },
    {
     "name": "stdout",
     "output_type": "stream",
     "text": [
      "Accuracy:  0.6607142857142857\n",
      "Precision:  0.661097688913806\n",
      "Recall:  0.658610544217687\n"
     ]
    }
   ],
   "source": [
    "metrics200 = model200.evaluate(test_data)\n",
    "print(\"Accuracy: \", metrics200[\"accuracy\"])\n",
    "print(\"Precision: \", metrics200[\"precision\"])\n",
    "print(\"Recall: \", metrics200[\"recall\"])"
   ]
  },
  {
   "cell_type": "code",
   "execution_count": 20,
   "metadata": {},
   "outputs": [
    {
     "name": "stdout",
     "output_type": "stream",
     "text": [
      "Confusion Matrix:\n",
      " +--------------+-----------------+-------+\n",
      "| target_label | predicted_label | count |\n",
      "+--------------+-----------------+-------+\n",
      "|    carrot    |    watermelon   |   2   |\n",
      "|    apple     |      candy      |   1   |\n",
      "|  watermelon  |    ice cream    |   3   |\n",
      "|  strawberry  |    strawberry   |   35  |\n",
      "|    waffle    |    ice cream    |   1   |\n",
      "|    candy     |      carrot     |   1   |\n",
      "|    cookie    |    ice cream    |   5   |\n",
      "|    grape     |      candy      |   1   |\n",
      "|   pretzel    |     hot dog     |   1   |\n",
      "|  ice cream   |    ice cream    |   25  |\n",
      "+--------------+-----------------+-------+\n",
      "[209 rows x 3 columns]\n",
      "Note: Only the head of the SFrame is printed.\n",
      "You can use print_rows(num_rows=m, num_columns=n) to print more rows and columns.\n"
     ]
    }
   ],
   "source": [
    "print(\"Confusion Matrix:\\n\", metrics[\"confusion_matrix\"])"
   ]
  },
  {
   "cell_type": "code",
   "execution_count": 21,
   "metadata": {},
   "outputs": [],
   "source": [
    "import numpy as np\n",
    "import seaborn as sns\n",
    "\n",
    "def compute_confusion_matrix(metrics, labels):\n",
    "    num_labels = len(labels)\n",
    "    label_to_index = {l:i for i, l in enumerate(labels)}\n",
    "    \n",
    "    conf = np.zeros((num_labels, num_labels), dtype=np.int)\n",
    "    for row in metrics[\"confusion_matrix\"]:\n",
    "        true_label = label_to_index[row[\"target_label\"]]\n",
    "        pred_label = label_to_index[row[\"predicted_label\"]]\n",
    "        conf[true_label, pred_label] = row[\"count\"]\n",
    "        \n",
    "    return conf\n",
    "\n",
    "def plot_confusion_matrix(conf, labels, figsize=(8,8)):\n",
    "    fig = plt.figure(figsize=figsize)\n",
    "    heatmap = sns.heatmap(conf, annot=True, fmt='d')\n",
    "    heatmap.xaxis.set_ticklabels(labels, rotation=45, ha=\"right\", fontsize=12)\n",
    "    heatmap.yaxis.set_ticklabels(labels, rotation=0, ha=\"right\", fontsize=12)\n",
    "    \n",
    "    plt.xlabel(\"Predicted label\", fontsize=12)\n",
    "    plt.ylabel(\"True label\", fontsize=12)\n",
    "    plt.show()"
   ]
  },
  {
   "cell_type": "code",
   "execution_count": 22,
   "metadata": {},
   "outputs": [
    {
     "data": {
      "image/png": "[encoded data removed]",
      "text/plain": [
       "<Figure size 1152x1152 with 2 Axes>"
      ]
     },
     "metadata": {
      "needs_background": "light"
     },
     "output_type": "display_data"
    }
   ],
   "source": [
    "conf = compute_confusion_matrix(metrics200, labels)\n",
    "plot_confusion_matrix(conf, labels, figsize=(16,16))"
   ]
  },
  {
   "cell_type": "code",
   "execution_count": 23,
   "metadata": {},
   "outputs": [
    {
     "name": "stdout",
     "output_type": "stream",
     "text": [
      "     apple 58.0%\n",
      "    banana 76.0%\n",
      "      cake 52.0%\n",
      "     candy 54.0%\n",
      "    carrot 70.0%\n",
      "    cookie 56.0%\n",
      "  doughnut 66.0%\n",
      "     grape 86.0%\n",
      "   hot dog 78.0%\n",
      " ice cream 50.0%\n",
      "     juice 76.0%\n",
      "    muffin 58.3%\n",
      "    orange 72.0%\n",
      " pineapple 65.0%\n",
      "   popcorn 62.5%\n",
      "   pretzel 60.0%\n",
      "     salad 76.0%\n",
      "strawberry 69.4%\n",
      "    waffle 70.0%\n",
      "watermelon 62.0%\n"
     ]
    }
   ],
   "source": [
    "for i, label in enumerate(labels):\n",
    "    correct = conf[i, i]\n",
    "    images_per_class = conf[i].sum()\n",
    "    print(\"%10s %.1f%%\" % (label, 100. * correct/images_per_class))"
   ]
  },
  {
   "cell_type": "code",
   "execution_count": 24,
   "metadata": {},
   "outputs": [
    {
     "data": {
      "text/html": [
       "<pre>Read 393 images in 5.01545 secs\tspeed: 78.3579 file/sec</pre>"
      ],
      "text/plain": [
       "Read 393 images in 5.01545 secs\tspeed: 78.3579 file/sec"
      ]
     },
     "metadata": {},
     "output_type": "display_data"
    },
    {
     "data": {
      "text/html": [
       "<pre>Read 858 images in 10.052 secs\tspeed: 92.3255 file/sec</pre>"
      ],
      "text/plain": [
       "Read 858 images in 10.052 secs\tspeed: 92.3255 file/sec"
      ]
     },
     "metadata": {},
     "output_type": "display_data"
    },
    {
     "data": {
      "text/plain": [
       "955"
      ]
     },
     "execution_count": 24,
     "metadata": {},
     "output_type": "execute_result"
    }
   ],
   "source": [
    "val_data = tc.image_analysis.load_images(\"snacks/val\", with_path=True)\n",
    "val_data[\"label\"] = val_data[\"path\"].apply(lambda path: os.path.basename(os.path.split(path)[0]))\n",
    "len(val_data)"
   ]
  },
  {
   "cell_type": "code",
   "execution_count": 25,
   "metadata": {},
   "outputs": [],
   "source": [
    "extracted_train_features = tc.SFrame(\"extracted_train_features.sframe\")\n",
    "extracted_val_features = tc.SFrame(\"extracted_val_features.sframe\")"
   ]
  },
  {
   "cell_type": "code",
   "execution_count": 26,
   "metadata": {},
   "outputs": [
    {
     "name": "stdout",
     "output_type": "stream",
     "text": [
      "Downloading https://docs-assets.developer.apple.com/turicreate/models/squeezenet_v1.1-symbol.json\n",
      "Download completed: /var/folders/00/5fdtjnvs5mb9z49txltpglq40000gn/T/model_cache/squeezenet_v1.1-symbol.json\n",
      "Downloading https://docs-assets.developer.apple.com/turicreate/models/squeezenet_v1.1-0000.params\n",
      "Download completed: /var/folders/00/5fdtjnvs5mb9z49txltpglq40000gn/T/model_cache/squeezenet_v1.1-0000.params\n"
     ]
    }
   ],
   "source": [
    "from turicreate.toolkits import _pre_trained_models\n",
    "from turicreate.toolkits import _image_feature_extractor\n",
    "\n",
    "ptModel = _pre_trained_models.MODELS[\"squeezenet_v1.1\"]()\n",
    "feature_extractor = _image_feature_extractor.MXFeatureExtractor(ptModel)"
   ]
  },
  {
   "cell_type": "code",
   "execution_count": 27,
   "metadata": {},
   "outputs": [
    {
     "name": "stdout",
     "output_type": "stream",
     "text": [
      "Performing feature extraction on resized images...\n",
      "Completed   64/4838\n",
      "Completed  128/4838\n",
      "Completed  192/4838\n",
      "Completed  256/4838\n",
      "Completed  320/4838\n",
      "Completed  384/4838\n",
      "Completed  448/4838\n",
      "Completed  512/4838\n",
      "Completed  576/4838\n",
      "Completed  640/4838\n",
      "Completed  704/4838\n",
      "Completed  768/4838\n",
      "Completed  832/4838\n",
      "Completed  896/4838\n",
      "Completed  960/4838\n",
      "Completed 1024/4838\n",
      "Completed 1088/4838\n",
      "Completed 1152/4838\n",
      "Completed 1216/4838\n",
      "Completed 1280/4838\n",
      "Completed 1344/4838\n",
      "Completed 1408/4838\n",
      "Completed 1472/4838\n",
      "Completed 1536/4838\n",
      "Completed 1600/4838\n",
      "Completed 1664/4838\n",
      "Completed 1728/4838\n",
      "Completed 1792/4838\n",
      "Completed 1856/4838\n",
      "Completed 1920/4838\n",
      "Completed 1984/4838\n",
      "Completed 2048/4838\n",
      "Completed 2112/4838\n",
      "Completed 2176/4838\n",
      "Completed 2240/4838\n",
      "Completed 2304/4838\n",
      "Completed 2368/4838\n",
      "Completed 2432/4838\n",
      "Completed 2496/4838\n",
      "Completed 2560/4838\n",
      "Completed 2624/4838\n",
      "Completed 2688/4838\n",
      "Completed 2752/4838\n",
      "Completed 2816/4838\n",
      "Completed 2880/4838\n",
      "Completed 2944/4838\n",
      "Completed 3008/4838\n",
      "Completed 3072/4838\n",
      "Completed 3136/4838\n",
      "Completed 3200/4838\n",
      "Completed 3264/4838\n",
      "Completed 3328/4838\n",
      "Completed 3392/4838\n",
      "Completed 3456/4838\n",
      "Completed 3520/4838\n",
      "Completed 3584/4838\n",
      "Completed 3648/4838\n",
      "Completed 3712/4838\n",
      "Completed 3776/4838\n",
      "Completed 3840/4838\n",
      "Completed 3904/4838\n",
      "Completed 3968/4838\n",
      "Completed 4032/4838\n",
      "Completed 4096/4838\n",
      "Completed 4160/4838\n",
      "Completed 4224/4838\n",
      "Completed 4288/4838\n",
      "Completed 4352/4838\n",
      "Completed 4416/4838\n",
      "Completed 4480/4838\n",
      "Completed 4544/4838\n",
      "Completed 4608/4838\n",
      "Completed 4672/4838\n",
      "Completed 4736/4838\n",
      "Completed 4800/4838\n",
      "Completed 4838/4838\n"
     ]
    }
   ],
   "source": [
    "train_features = feature_extractor.extract_features(train_data, \"image\", verbose=True)"
   ]
  },
  {
   "cell_type": "code",
   "execution_count": 28,
   "metadata": {},
   "outputs": [],
   "source": [
    "extracted_train_features = tc.SFrame({\"label\": train_data[\"label\"], '__image_features__': train_features,})"
   ]
  },
  {
   "cell_type": "code",
   "execution_count": 29,
   "metadata": {},
   "outputs": [],
   "source": [
    "extracted_train_features.save(\"extracted_train_features.sframe\")"
   ]
  },
  {
   "cell_type": "code",
   "execution_count": 30,
   "metadata": {},
   "outputs": [
    {
     "data": {
      "text/html": [
       "<div style=\"max-height:1000px;max-width:1500px;overflow:auto;\"><table frame=\"box\" rules=\"cols\">\n",
       "    <tr>\n",
       "        <th style=\"padding-left: 1em; padding-right: 1em; text-align: center\">__image_features__</th>\n",
       "        <th style=\"padding-left: 1em; padding-right: 1em; text-align: center\">label</th>\n",
       "    </tr>\n",
       "    <tr>\n",
       "        <td style=\"padding-left: 1em; padding-right: 1em; text-align: center; vertical-align: top\">[6.1337385177612305,<br>10.12844181060791, ...</td>\n",
       "        <td style=\"padding-left: 1em; padding-right: 1em; text-align: center; vertical-align: top\">apple</td>\n",
       "    </tr>\n",
       "    <tr>\n",
       "        <td style=\"padding-left: 1em; padding-right: 1em; text-align: center; vertical-align: top\">[9.666999816894531,<br>14.665328025817871, ...</td>\n",
       "        <td style=\"padding-left: 1em; padding-right: 1em; text-align: center; vertical-align: top\">apple</td>\n",
       "    </tr>\n",
       "    <tr>\n",
       "        <td style=\"padding-left: 1em; padding-right: 1em; text-align: center; vertical-align: top\">[10.662524223327637,<br>15.472965240478516, ...</td>\n",
       "        <td style=\"padding-left: 1em; padding-right: 1em; text-align: center; vertical-align: top\">apple</td>\n",
       "    </tr>\n",
       "    <tr>\n",
       "        <td style=\"padding-left: 1em; padding-right: 1em; text-align: center; vertical-align: top\">[12.159001350402832,<br>11.231389045715332, ...</td>\n",
       "        <td style=\"padding-left: 1em; padding-right: 1em; text-align: center; vertical-align: top\">apple</td>\n",
       "    </tr>\n",
       "    <tr>\n",
       "        <td style=\"padding-left: 1em; padding-right: 1em; text-align: center; vertical-align: top\">[17.9743709564209,<br>19.089576721191406, ...</td>\n",
       "        <td style=\"padding-left: 1em; padding-right: 1em; text-align: center; vertical-align: top\">apple</td>\n",
       "    </tr>\n",
       "    <tr>\n",
       "        <td style=\"padding-left: 1em; padding-right: 1em; text-align: center; vertical-align: top\">[5.879778861999512,<br>9.116369247436523, ...</td>\n",
       "        <td style=\"padding-left: 1em; padding-right: 1em; text-align: center; vertical-align: top\">apple</td>\n",
       "    </tr>\n",
       "    <tr>\n",
       "        <td style=\"padding-left: 1em; padding-right: 1em; text-align: center; vertical-align: top\">[6.7489848136901855,<br>6.330108642578125, ...</td>\n",
       "        <td style=\"padding-left: 1em; padding-right: 1em; text-align: center; vertical-align: top\">apple</td>\n",
       "    </tr>\n",
       "    <tr>\n",
       "        <td style=\"padding-left: 1em; padding-right: 1em; text-align: center; vertical-align: top\">[5.711240291595459,<br>13.054986000061035, ...</td>\n",
       "        <td style=\"padding-left: 1em; padding-right: 1em; text-align: center; vertical-align: top\">apple</td>\n",
       "    </tr>\n",
       "    <tr>\n",
       "        <td style=\"padding-left: 1em; padding-right: 1em; text-align: center; vertical-align: top\">[8.625852584838867,<br>6.533729553222656, ...</td>\n",
       "        <td style=\"padding-left: 1em; padding-right: 1em; text-align: center; vertical-align: top\">apple</td>\n",
       "    </tr>\n",
       "    <tr>\n",
       "        <td style=\"padding-left: 1em; padding-right: 1em; text-align: center; vertical-align: top\">[6.440614700317383,<br>13.472396850585938, ...</td>\n",
       "        <td style=\"padding-left: 1em; padding-right: 1em; text-align: center; vertical-align: top\">apple</td>\n",
       "    </tr>\n",
       "</table>\n",
       "[10 rows x 2 columns]<br/>\n",
       "</div>"
      ],
      "text/plain": [
       "Columns:\n",
       "\t__image_features__\tarray\n",
       "\tlabel\tstr\n",
       "\n",
       "Rows: 10\n",
       "\n",
       "Data:\n",
       "+-------------------------------+-------+\n",
       "|       __image_features__      | label |\n",
       "+-------------------------------+-------+\n",
       "| [6.1337385177612305, 10.12... | apple |\n",
       "| [9.666999816894531, 14.665... | apple |\n",
       "| [10.662524223327637, 15.47... | apple |\n",
       "| [12.159001350402832, 11.23... | apple |\n",
       "| [17.9743709564209, 19.0895... | apple |\n",
       "| [5.879778861999512, 9.1163... | apple |\n",
       "| [6.7489848136901855, 6.330... | apple |\n",
       "| [5.711240291595459, 13.054... | apple |\n",
       "| [8.625852584838867, 6.5337... | apple |\n",
       "| [6.440614700317383, 13.472... | apple |\n",
       "+-------------------------------+-------+\n",
       "[10 rows x 2 columns]"
      ]
     },
     "execution_count": 30,
     "metadata": {},
     "output_type": "execute_result"
    }
   ],
   "source": [
    "extracted_train_features.head()"
   ]
  },
  {
   "cell_type": "code",
   "execution_count": 31,
   "metadata": {
    "scrolled": true
   },
   "outputs": [
    {
     "ename": "IndentationError",
     "evalue": "unexpected indent (<ipython-input-31-d452f80b75ff>, line 3)",
     "output_type": "error",
     "traceback": [
      "\u001b[0;36m  File \u001b[0;32m\"<ipython-input-31-d452f80b75ff>\"\u001b[0;36m, line \u001b[0;32m3\u001b[0m\n\u001b[0;31m    'classifier': lr_model,\u001b[0m\n\u001b[0m    ^\u001b[0m\n\u001b[0;31mIndentationError\u001b[0m\u001b[0;31m:\u001b[0m unexpected indent\n"
     ]
    }
   ],
   "source": [
    "from turicreate.toolkits.image_classifier import ImageClassifier\n",
    "\n",
    "    'classifier': lr_model,\n",
    "    'model': ptModel.name,\n",
    "    'max_iterations': lr_model.max_iterations,\n",
    "    'feature_extractor': feature_extractor,\n",
    "    'input_image_shape': ptModel.input_image_shape,\n",
    "    'target': lr_model.target,\n",
    "    'feature': \"image\",\n",
    "    'num_features': 1,\n",
    "    'num_classes': lr_model.num_classes,\n",
    "    'classes': lr_model.classes,\n",
    "    'num_examples': lr_model.num_examples,\n",
    "    'training_time': lr_model.training_time,\n",
    "    'training_loss': lr_model.training_loss,\n",
    "}\n",
    "model = ImageClassifier(state)"
   ]
  },
  {
   "cell_type": "code",
   "execution_count": null,
   "metadata": {},
   "outputs": [],
   "source": [
    "lr_model = tc.logistic_classifier.create(extracted_train_features,\n",
    "                             features=['__image_features__'],\n",
    "                             target=\"label\",\n",
    "                             validation_set=extracted_val_features,\n",
    "                             max_iterations=200,\n",
    "                             seed=None,\n",
    "                             verbose=True,\n",
    "                             l2_penalty=10.0,\n",
    "                             l1_penalty=0.0,\n",
    "                             convergence_threshold=1e-8)"
   ]
  },
  {
   "cell_type": "code",
   "execution_count": null,
   "metadata": {},
   "outputs": [],
   "source": [
    "from turicreate.toolkits.image_classifier import ImageClassifier\n",
    "\n",
    "state = {\n",
    "    'classifier': lr_model,\n",
    "    'model': ptModel.name,\n",
    "    'max_iterations': lr_model.max_iterations,\n",
    "    'feature_extractor': feature_extractor,\n",
    "    'input_image_shape': ptModel.input_image_shape,\n",
    "    'target': lr_model.target,\n",
    "    'feature': \"image\",\n",
    "    'num_features': 1,\n",
    "    'num_classes': lr_model.num_classes,\n",
    "    'classes': lr_model.classes,\n",
    "    'num_examples': lr_model.num_examples,\n",
    "    'training_time': lr_model.training_time,\n",
    "    'training_loss': lr_model.training_loss,\n",
    "}\n",
    "model = ImageClassifier(state)"
   ]
  },
  {
   "cell_type": "code",
   "execution_count": null,
   "metadata": {},
   "outputs": [],
   "source": [
    "model.save(\"HealtySnacks_regularized.model\")"
   ]
  },
  {
   "cell_type": "code",
   "execution_count": null,
   "metadata": {},
   "outputs": [],
   "source": [
    "model.export_coreml(\"HealthySnacks_regulized.mlmodel\")"
   ]
  },
  {
   "cell_type": "code",
   "execution_count": null,
   "metadata": {},
   "outputs": [],
   "source": [
    "model"
   ]
  },
  {
   "cell_type": "code",
   "execution_count": null,
   "metadata": {},
   "outputs": [],
   "source": [
    "model.classifier"
   ]
  },
  {
   "cell_type": "code",
   "execution_count": null,
   "metadata": {},
   "outputs": [],
   "source": [
    "model300 = tc.image_classifier.create(train_data, target=\"label\", model=\"resnet-50\", verbose=True, max_iterations=200)"
   ]
  },
  {
   "cell_type": "code",
   "execution_count": null,
   "metadata": {},
   "outputs": [],
   "source": [
    "metrics300 = model300.evaluate(test_data)\n",
    "print(\"Accuracy: \", metrics300[\"accuracy\"])\n",
    "print(\"Precision: \", metrics300[\"precision\"])\n",
    "print(\"Recall: \", metrics300[\"recall\"])"
   ]
  }
 ],
 "metadata": {
  "kernelspec": {
   "display_name": "Python 3",
   "language": "python",
   "name": "python3"
  },
  "language_info": {
   "codemirror_mode": {
    "name": "ipython",
    "version": 3
   },
   "file_extension": ".py",
   "mimetype": "text/x-python",
   "name": "python",
   "nbconvert_exporter": "python",
   "pygments_lexer": "ipython3",
   "version": "3.6.7"
  }
 },
 "nbformat": 4,
 "nbformat_minor": 2
}
